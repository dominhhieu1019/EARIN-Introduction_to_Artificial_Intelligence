{
  "nbformat": 4,
  "nbformat_minor": 0,
  "metadata": {
    "colab": {
      "name": "Untitled",
      "provenance": [],
      "collapsed_sections": []
    },
    "kernelspec": {
      "name": "python3",
      "display_name": "Python 3"
    }
  },
  "cells": [
    {
      "cell_type": "markdown",
      "metadata": {
        "id": "D0yfuCBOn1DM",
        "colab_type": "text"
      },
      "source": [
        "# **Importing Libraries**"
      ]
    },
    {
      "cell_type": "code",
      "metadata": {
        "id": "pXvo_IiXn3Rr",
        "colab_type": "code",
        "colab": {
          "base_uri": "https://localhost:8080/",
          "height": 70
        },
        "outputId": "e2c386b3-5e9c-4a46-8575-a7ba011cd89d"
      },
      "source": [
        "import pandas as pd\n",
        "import numpy as np\n",
        "import seaborn as sn\n",
        "from scipy import stats\n",
        "from datetime import datetime\n",
        "import matplotlib.pyplot as plt\n",
        "import sklearn\n",
        "import warnings\n",
        "pd.options.mode.chained_assignment = None\n",
        "warnings.filterwarnings(\"ignore\", category=DeprecationWarning)\n",
        "%matplotlib inline"
      ],
      "execution_count": 1,
      "outputs": [
        {
          "output_type": "stream",
          "text": [
            "/usr/local/lib/python3.6/dist-packages/statsmodels/tools/_testing.py:19: FutureWarning: pandas.util.testing is deprecated. Use the functions in the public API at pandas.testing instead.\n",
            "  import pandas.util.testing as tm\n"
          ],
          "name": "stderr"
        }
      ]
    },
    {
      "cell_type": "markdown",
      "metadata": {
        "id": "ZHNb9BtmgkjH",
        "colab_type": "text"
      },
      "source": [
        "# **Set Figure Size**"
      ]
    },
    {
      "cell_type": "code",
      "metadata": {
        "id": "SYCBCizqgjii",
        "colab_type": "code",
        "colab": {}
      },
      "source": [
        "import matplotlib\n",
        "matplotlib.rcParams['figure.figsize'] = [10, 5]"
      ],
      "execution_count": 2,
      "outputs": []
    },
    {
      "cell_type": "markdown",
      "metadata": {
        "id": "-fFz1FGZJN9c",
        "colab_type": "text"
      },
      "source": [
        "# **Loading Data**"
      ]
    },
    {
      "cell_type": "code",
      "metadata": {
        "id": "yUWYLJZGoJ4b",
        "colab_type": "code",
        "colab": {}
      },
      "source": [
        "# from google.colab import files\n",
        "# data_to_load = files.upload()"
      ],
      "execution_count": null,
      "outputs": []
    },
    {
      "cell_type": "code",
      "metadata": {
        "id": "MxdHrUjrIirz",
        "colab_type": "code",
        "colab": {}
      },
      "source": [
        "train = pd.read_csv('train.csv')"
      ],
      "execution_count": 4,
      "outputs": []
    },
    {
      "cell_type": "markdown",
      "metadata": {
        "id": "iAGCCYpVJ0eD",
        "colab_type": "text"
      },
      "source": [
        "# **Data Exploration**"
      ]
    },
    {
      "cell_type": "markdown",
      "metadata": {
        "id": "Mo4wyODHLaKL",
        "colab_type": "text"
      },
      "source": [
        "Shape of the dataset"
      ]
    },
    {
      "cell_type": "code",
      "metadata": {
        "id": "M3AKenXEJ-bz",
        "colab_type": "code",
        "colab": {
          "base_uri": "https://localhost:8080/",
          "height": 34
        },
        "outputId": "3758205f-ae9f-44d1-c2e3-eea4a64de1a0"
      },
      "source": [
        "train.shape"
      ],
      "execution_count": 5,
      "outputs": [
        {
          "output_type": "execute_result",
          "data": {
            "text/plain": [
              "(10886, 12)"
            ]
          },
          "metadata": {
            "tags": []
          },
          "execution_count": 5
        }
      ]
    },
    {
      "cell_type": "markdown",
      "metadata": {
        "id": "v7YckFxWLeNe",
        "colab_type": "text"
      },
      "source": [
        "Sample of first few rows"
      ]
    },
    {
      "cell_type": "code",
      "metadata": {
        "id": "vT0Dlzp5IwpS",
        "colab_type": "code",
        "colab": {
          "base_uri": "https://localhost:8080/",
          "height": 195
        },
        "outputId": "7749b6d6-eefe-4b66-89a1-494e03ffd697"
      },
      "source": [
        "train.head()"
      ],
      "execution_count": 6,
      "outputs": [
        {
          "output_type": "execute_result",
          "data": {
            "text/html": [
              "<div>\n",
              "<style scoped>\n",
              "    .dataframe tbody tr th:only-of-type {\n",
              "        vertical-align: middle;\n",
              "    }\n",
              "\n",
              "    .dataframe tbody tr th {\n",
              "        vertical-align: top;\n",
              "    }\n",
              "\n",
              "    .dataframe thead th {\n",
              "        text-align: right;\n",
              "    }\n",
              "</style>\n",
              "<table border=\"1\" class=\"dataframe\">\n",
              "  <thead>\n",
              "    <tr style=\"text-align: right;\">\n",
              "      <th></th>\n",
              "      <th>datetime</th>\n",
              "      <th>season</th>\n",
              "      <th>holiday</th>\n",
              "      <th>workingday</th>\n",
              "      <th>weather</th>\n",
              "      <th>temp</th>\n",
              "      <th>atemp</th>\n",
              "      <th>humidity</th>\n",
              "      <th>windspeed</th>\n",
              "      <th>casual</th>\n",
              "      <th>registered</th>\n",
              "      <th>count</th>\n",
              "    </tr>\n",
              "  </thead>\n",
              "  <tbody>\n",
              "    <tr>\n",
              "      <th>0</th>\n",
              "      <td>2011-01-01 00:00:00</td>\n",
              "      <td>1</td>\n",
              "      <td>0</td>\n",
              "      <td>0</td>\n",
              "      <td>1</td>\n",
              "      <td>9.84</td>\n",
              "      <td>14.395</td>\n",
              "      <td>81</td>\n",
              "      <td>0.0</td>\n",
              "      <td>3</td>\n",
              "      <td>13</td>\n",
              "      <td>16</td>\n",
              "    </tr>\n",
              "    <tr>\n",
              "      <th>1</th>\n",
              "      <td>2011-01-01 01:00:00</td>\n",
              "      <td>1</td>\n",
              "      <td>0</td>\n",
              "      <td>0</td>\n",
              "      <td>1</td>\n",
              "      <td>9.02</td>\n",
              "      <td>13.635</td>\n",
              "      <td>80</td>\n",
              "      <td>0.0</td>\n",
              "      <td>8</td>\n",
              "      <td>32</td>\n",
              "      <td>40</td>\n",
              "    </tr>\n",
              "    <tr>\n",
              "      <th>2</th>\n",
              "      <td>2011-01-01 02:00:00</td>\n",
              "      <td>1</td>\n",
              "      <td>0</td>\n",
              "      <td>0</td>\n",
              "      <td>1</td>\n",
              "      <td>9.02</td>\n",
              "      <td>13.635</td>\n",
              "      <td>80</td>\n",
              "      <td>0.0</td>\n",
              "      <td>5</td>\n",
              "      <td>27</td>\n",
              "      <td>32</td>\n",
              "    </tr>\n",
              "    <tr>\n",
              "      <th>3</th>\n",
              "      <td>2011-01-01 03:00:00</td>\n",
              "      <td>1</td>\n",
              "      <td>0</td>\n",
              "      <td>0</td>\n",
              "      <td>1</td>\n",
              "      <td>9.84</td>\n",
              "      <td>14.395</td>\n",
              "      <td>75</td>\n",
              "      <td>0.0</td>\n",
              "      <td>3</td>\n",
              "      <td>10</td>\n",
              "      <td>13</td>\n",
              "    </tr>\n",
              "    <tr>\n",
              "      <th>4</th>\n",
              "      <td>2011-01-01 04:00:00</td>\n",
              "      <td>1</td>\n",
              "      <td>0</td>\n",
              "      <td>0</td>\n",
              "      <td>1</td>\n",
              "      <td>9.84</td>\n",
              "      <td>14.395</td>\n",
              "      <td>75</td>\n",
              "      <td>0.0</td>\n",
              "      <td>0</td>\n",
              "      <td>1</td>\n",
              "      <td>1</td>\n",
              "    </tr>\n",
              "  </tbody>\n",
              "</table>\n",
              "</div>"
            ],
            "text/plain": [
              "              datetime  season  holiday  ...  casual  registered  count\n",
              "0  2011-01-01 00:00:00       1        0  ...       3          13     16\n",
              "1  2011-01-01 01:00:00       1        0  ...       8          32     40\n",
              "2  2011-01-01 02:00:00       1        0  ...       5          27     32\n",
              "3  2011-01-01 03:00:00       1        0  ...       3          10     13\n",
              "4  2011-01-01 04:00:00       1        0  ...       0           1      1\n",
              "\n",
              "[5 rows x 12 columns]"
            ]
          },
          "metadata": {
            "tags": []
          },
          "execution_count": 6
        }
      ]
    },
    {
      "cell_type": "markdown",
      "metadata": {
        "id": "ekQNziwYLieR",
        "colab_type": "text"
      },
      "source": [
        "Variables data type"
      ]
    },
    {
      "cell_type": "code",
      "metadata": {
        "id": "ljmspw34JuEV",
        "colab_type": "code",
        "colab": {
          "base_uri": "https://localhost:8080/",
          "height": 336
        },
        "outputId": "aedccad7-e55f-4dd6-8b82-11a0490736cb"
      },
      "source": [
        "train.info()"
      ],
      "execution_count": 7,
      "outputs": [
        {
          "output_type": "stream",
          "text": [
            "<class 'pandas.core.frame.DataFrame'>\n",
            "RangeIndex: 10886 entries, 0 to 10885\n",
            "Data columns (total 12 columns):\n",
            " #   Column      Non-Null Count  Dtype  \n",
            "---  ------      --------------  -----  \n",
            " 0   datetime    10886 non-null  object \n",
            " 1   season      10886 non-null  int64  \n",
            " 2   holiday     10886 non-null  int64  \n",
            " 3   workingday  10886 non-null  int64  \n",
            " 4   weather     10886 non-null  int64  \n",
            " 5   temp        10886 non-null  float64\n",
            " 6   atemp       10886 non-null  float64\n",
            " 7   humidity    10886 non-null  int64  \n",
            " 8   windspeed   10886 non-null  float64\n",
            " 9   casual      10886 non-null  int64  \n",
            " 10  registered  10886 non-null  int64  \n",
            " 11  count       10886 non-null  int64  \n",
            "dtypes: float64(3), int64(8), object(1)\n",
            "memory usage: 1020.7+ KB\n"
          ],
          "name": "stdout"
        }
      ]
    },
    {
      "cell_type": "markdown",
      "metadata": {
        "id": "nhKqdg4WKDiK",
        "colab_type": "text"
      },
      "source": [
        "Checking if there is any missing value"
      ]
    },
    {
      "cell_type": "code",
      "metadata": {
        "id": "ftlIQZzaJ-RF",
        "colab_type": "code",
        "colab": {
          "base_uri": "https://localhost:8080/",
          "height": 235
        },
        "outputId": "a522a0a7-7a42-43ac-cbf4-58c4d71482bd"
      },
      "source": [
        "train.isnull().sum()"
      ],
      "execution_count": 8,
      "outputs": [
        {
          "output_type": "execute_result",
          "data": {
            "text/plain": [
              "datetime      0\n",
              "season        0\n",
              "holiday       0\n",
              "workingday    0\n",
              "weather       0\n",
              "temp          0\n",
              "atemp         0\n",
              "humidity      0\n",
              "windspeed     0\n",
              "casual        0\n",
              "registered    0\n",
              "count         0\n",
              "dtype: int64"
            ]
          },
          "metadata": {
            "tags": []
          },
          "execution_count": 8
        }
      ]
    },
    {
      "cell_type": "markdown",
      "metadata": {
        "id": "v0v2QvDdND4O",
        "colab_type": "text"
      },
      "source": [
        "###**Create New Columns From \"datetime\"**"
      ]
    },
    {
      "cell_type": "code",
      "metadata": {
        "id": "vs3X5MleJ-pv",
        "colab_type": "code",
        "colab": {}
      },
      "source": [
        "train['date'] = train['datetime'].apply(lambda x: x.split()[0])\n",
        "train['hour'] = train['datetime'].apply(lambda x: x.split()[1].split(':')[0])\n",
        "train['year'] = train['date'].apply(lambda x:x.split('-')[0])\n",
        "train['month'] = train['date'].apply(lambda x:x.split('-')[1])\n",
        "train['day'] = train['date'].apply(lambda x:x.split('-')[2])\n",
        "train['weekend'] = 0\n",
        "train.loc[(train.holiday == 0) & (train.workingday == 0),'weekend'] = 1"
      ],
      "execution_count": 9,
      "outputs": []
    },
    {
      "cell_type": "markdown",
      "metadata": {
        "id": "2AESArI9QEoO",
        "colab_type": "text"
      },
      "source": [
        "### **Delete Unnecessary Columns**"
      ]
    },
    {
      "cell_type": "code",
      "metadata": {
        "id": "OgJgvvivOnho",
        "colab_type": "code",
        "colab": {}
      },
      "source": [
        "del train['datetime']\n",
        "del train['date']"
      ],
      "execution_count": 10,
      "outputs": []
    },
    {
      "cell_type": "code",
      "metadata": {
        "id": "2624-2KdJ-sy",
        "colab_type": "code",
        "colab": {
          "base_uri": "https://localhost:8080/",
          "height": 195
        },
        "outputId": "899fa2e8-67f4-4427-bb2e-51763d9a6bfd"
      },
      "source": [
        "train.head()"
      ],
      "execution_count": 11,
      "outputs": [
        {
          "output_type": "execute_result",
          "data": {
            "text/html": [
              "<div>\n",
              "<style scoped>\n",
              "    .dataframe tbody tr th:only-of-type {\n",
              "        vertical-align: middle;\n",
              "    }\n",
              "\n",
              "    .dataframe tbody tr th {\n",
              "        vertical-align: top;\n",
              "    }\n",
              "\n",
              "    .dataframe thead th {\n",
              "        text-align: right;\n",
              "    }\n",
              "</style>\n",
              "<table border=\"1\" class=\"dataframe\">\n",
              "  <thead>\n",
              "    <tr style=\"text-align: right;\">\n",
              "      <th></th>\n",
              "      <th>season</th>\n",
              "      <th>holiday</th>\n",
              "      <th>workingday</th>\n",
              "      <th>weather</th>\n",
              "      <th>temp</th>\n",
              "      <th>atemp</th>\n",
              "      <th>humidity</th>\n",
              "      <th>windspeed</th>\n",
              "      <th>casual</th>\n",
              "      <th>registered</th>\n",
              "      <th>count</th>\n",
              "      <th>hour</th>\n",
              "      <th>year</th>\n",
              "      <th>month</th>\n",
              "      <th>day</th>\n",
              "      <th>weekend</th>\n",
              "    </tr>\n",
              "  </thead>\n",
              "  <tbody>\n",
              "    <tr>\n",
              "      <th>0</th>\n",
              "      <td>1</td>\n",
              "      <td>0</td>\n",
              "      <td>0</td>\n",
              "      <td>1</td>\n",
              "      <td>9.84</td>\n",
              "      <td>14.395</td>\n",
              "      <td>81</td>\n",
              "      <td>0.0</td>\n",
              "      <td>3</td>\n",
              "      <td>13</td>\n",
              "      <td>16</td>\n",
              "      <td>00</td>\n",
              "      <td>2011</td>\n",
              "      <td>01</td>\n",
              "      <td>01</td>\n",
              "      <td>1</td>\n",
              "    </tr>\n",
              "    <tr>\n",
              "      <th>1</th>\n",
              "      <td>1</td>\n",
              "      <td>0</td>\n",
              "      <td>0</td>\n",
              "      <td>1</td>\n",
              "      <td>9.02</td>\n",
              "      <td>13.635</td>\n",
              "      <td>80</td>\n",
              "      <td>0.0</td>\n",
              "      <td>8</td>\n",
              "      <td>32</td>\n",
              "      <td>40</td>\n",
              "      <td>01</td>\n",
              "      <td>2011</td>\n",
              "      <td>01</td>\n",
              "      <td>01</td>\n",
              "      <td>1</td>\n",
              "    </tr>\n",
              "    <tr>\n",
              "      <th>2</th>\n",
              "      <td>1</td>\n",
              "      <td>0</td>\n",
              "      <td>0</td>\n",
              "      <td>1</td>\n",
              "      <td>9.02</td>\n",
              "      <td>13.635</td>\n",
              "      <td>80</td>\n",
              "      <td>0.0</td>\n",
              "      <td>5</td>\n",
              "      <td>27</td>\n",
              "      <td>32</td>\n",
              "      <td>02</td>\n",
              "      <td>2011</td>\n",
              "      <td>01</td>\n",
              "      <td>01</td>\n",
              "      <td>1</td>\n",
              "    </tr>\n",
              "    <tr>\n",
              "      <th>3</th>\n",
              "      <td>1</td>\n",
              "      <td>0</td>\n",
              "      <td>0</td>\n",
              "      <td>1</td>\n",
              "      <td>9.84</td>\n",
              "      <td>14.395</td>\n",
              "      <td>75</td>\n",
              "      <td>0.0</td>\n",
              "      <td>3</td>\n",
              "      <td>10</td>\n",
              "      <td>13</td>\n",
              "      <td>03</td>\n",
              "      <td>2011</td>\n",
              "      <td>01</td>\n",
              "      <td>01</td>\n",
              "      <td>1</td>\n",
              "    </tr>\n",
              "    <tr>\n",
              "      <th>4</th>\n",
              "      <td>1</td>\n",
              "      <td>0</td>\n",
              "      <td>0</td>\n",
              "      <td>1</td>\n",
              "      <td>9.84</td>\n",
              "      <td>14.395</td>\n",
              "      <td>75</td>\n",
              "      <td>0.0</td>\n",
              "      <td>0</td>\n",
              "      <td>1</td>\n",
              "      <td>1</td>\n",
              "      <td>04</td>\n",
              "      <td>2011</td>\n",
              "      <td>01</td>\n",
              "      <td>01</td>\n",
              "      <td>1</td>\n",
              "    </tr>\n",
              "  </tbody>\n",
              "</table>\n",
              "</div>"
            ],
            "text/plain": [
              "   season  holiday  workingday  weather  temp  ...  hour  year  month  day  weekend\n",
              "0       1        0           0        1  9.84  ...    00  2011     01   01        1\n",
              "1       1        0           0        1  9.02  ...    01  2011     01   01        1\n",
              "2       1        0           0        1  9.02  ...    02  2011     01   01        1\n",
              "3       1        0           0        1  9.84  ...    03  2011     01   01        1\n",
              "4       1        0           0        1  9.84  ...    04  2011     01   01        1\n",
              "\n",
              "[5 rows x 16 columns]"
            ]
          },
          "metadata": {
            "tags": []
          },
          "execution_count": 11
        }
      ]
    },
    {
      "cell_type": "markdown",
      "metadata": {
        "id": "gt0gRjDMQUrP",
        "colab_type": "text"
      },
      "source": [
        "### **Coercing To Category Type**"
      ]
    },
    {
      "cell_type": "code",
      "metadata": {
        "id": "2q2bWxtsJ-km",
        "colab_type": "code",
        "colab": {}
      },
      "source": [
        "for col in ['season','holiday','workingday','weather','hour','year','day','month','weekend']:\n",
        "    train[col]=train[col].astype('category')"
      ],
      "execution_count": 12,
      "outputs": []
    },
    {
      "cell_type": "code",
      "metadata": {
        "id": "7RLErZ-sP_WB",
        "colab_type": "code",
        "colab": {
          "base_uri": "https://localhost:8080/",
          "height": 302
        },
        "outputId": "c9d31019-2a60-4ab4-d266-bed198cbab21"
      },
      "source": [
        "train.dtypes"
      ],
      "execution_count": 13,
      "outputs": [
        {
          "output_type": "execute_result",
          "data": {
            "text/plain": [
              "season        category\n",
              "holiday       category\n",
              "workingday    category\n",
              "weather       category\n",
              "temp           float64\n",
              "atemp          float64\n",
              "humidity         int64\n",
              "windspeed      float64\n",
              "casual           int64\n",
              "registered       int64\n",
              "count            int64\n",
              "hour          category\n",
              "year          category\n",
              "month         category\n",
              "day           category\n",
              "weekend       category\n",
              "dtype: object"
            ]
          },
          "metadata": {
            "tags": []
          },
          "execution_count": 13
        }
      ]
    },
    {
      "cell_type": "markdown",
      "metadata": {
        "id": "YFkJVnHYV0SO",
        "colab_type": "text"
      },
      "source": [
        "# **Multivariate Analysis**"
      ]
    },
    {
      "cell_type": "markdown",
      "metadata": {
        "id": "FEbkZ5zhXACW",
        "colab_type": "text"
      },
      "source": [
        "## **Trends Of Dataset**"
      ]
    },
    {
      "cell_type": "code",
      "metadata": {
        "id": "FH3DI9LlWhRy",
        "colab_type": "code",
        "colab": {}
      },
      "source": [
        "sn.set_style(style='whitegrid')"
      ],
      "execution_count": 14,
      "outputs": []
    },
    {
      "cell_type": "code",
      "metadata": {
        "id": "jVM6La6aVrZI",
        "colab_type": "code",
        "colab": {
          "base_uri": "https://localhost:8080/",
          "height": 320
        },
        "outputId": "2d0fe0eb-2326-4220-d2f7-dd538ffcdcdf"
      },
      "source": [
        "sn.boxplot(data=train, y='count')"
      ],
      "execution_count": 15,
      "outputs": [
        {
          "output_type": "execute_result",
          "data": {
            "text/plain": [
              "<matplotlib.axes._subplots.AxesSubplot at 0x7f4dfed48f28>"
            ]
          },
          "metadata": {
            "tags": []
          },
          "execution_count": 15
        },
        {
          "output_type": "display_data",
          "data": {
            "image/png": "[encoded data removed]",
            "text/plain": [
              "<Figure size 720x360 with 1 Axes>"
            ]
          },
          "metadata": {
            "tags": []
          }
        }
      ]
    },
    {
      "cell_type": "markdown",
      "metadata": {
        "id": "b_xNismhO8Wo",
        "colab_type": "text"
      },
      "source": [
        "### **Season Trend**"
      ]
    },
    {
      "cell_type": "code",
      "metadata": {
        "id": "8N9jM4OVQBum",
        "colab_type": "code",
        "colab": {
          "base_uri": "https://localhost:8080/",
          "height": 351
        },
        "outputId": "249ed048-4338-4999-9d86-0fe85bfe2a0b"
      },
      "source": [
        "sn.boxplot(data=train, x='season', y='count')"
      ],
      "execution_count": 16,
      "outputs": [
        {
          "output_type": "execute_result",
          "data": {
            "text/plain": [
              "<matplotlib.axes._subplots.AxesSubplot at 0x7f4df316e278>"
            ]
          },
          "metadata": {
            "tags": []
          },
          "execution_count": 16
        },
        {
          "output_type": "display_data",
          "data": {
            "image/png": "[encoded data removed]",
            "text/plain": [
              "<Figure size 720x360 with 1 Axes>"
            ]
          },
          "metadata": {
            "tags": []
          }
        }
      ]
    },
    {
      "cell_type": "markdown",
      "metadata": {
        "id": "W10r9woRPAjx",
        "colab_type": "text"
      },
      "source": [
        "### **Hourly Trend**"
      ]
    },
    {
      "cell_type": "code",
      "metadata": {
        "id": "M-NKPzOaV8Go",
        "colab_type": "code",
        "colab": {
          "base_uri": "https://localhost:8080/",
          "height": 351
        },
        "outputId": "5a4a25ec-a31a-415a-9633-30c3cd0c36eb"
      },
      "source": [
        "sn.boxplot(data=train, x='hour', y='count')"
      ],
      "execution_count": 17,
      "outputs": [
        {
          "output_type": "execute_result",
          "data": {
            "text/plain": [
              "<matplotlib.axes._subplots.AxesSubplot at 0x7f4df29ad828>"
            ]
          },
          "metadata": {
            "tags": []
          },
          "execution_count": 17
        },
        {
          "output_type": "display_data",
          "data": {
            "image/png": "[encoded data removed]",
            "text/plain": [
              "<Figure size 720x360 with 1 Axes>"
            ]
          },
          "metadata": {
            "tags": []
          }
        }
      ]
    },
    {
      "cell_type": "markdown",
      "metadata": {
        "id": "kOt_2La7PG7u",
        "colab_type": "text"
      },
      "source": [
        "The distribution of registered and casual users separately."
      ]
    },
    {
      "cell_type": "code",
      "metadata": {
        "id": "k1_fPzrXddt-",
        "colab_type": "code",
        "colab": {
          "base_uri": "https://localhost:8080/",
          "height": 351
        },
        "outputId": "55f469e6-9a8c-48f0-88e8-6cda1a7ac55e"
      },
      "source": [
        "fig, axes = plt.subplots(ncols=2)\n",
        "fig.set_size_inches(20, 5)\n",
        "sn.boxplot(data=train, x='hour', y='casual', ax=axes[0])\n",
        "sn.boxplot(data=train, x='hour', y='registered', ax=axes[1])\n"
      ],
      "execution_count": 18,
      "outputs": [
        {
          "output_type": "execute_result",
          "data": {
            "text/plain": [
              "<matplotlib.axes._subplots.AxesSubplot at 0x7f4df2736710>"
            ]
          },
          "metadata": {
            "tags": []
          },
          "execution_count": 18
        },
        {
          "output_type": "display_data",
          "data": {
            "image/png": "[encoded data removed]",
            "text/plain": [
              "<Figure size 1440x360 with 2 Axes>"
            ]
          },
          "metadata": {
            "tags": []
          }
        }
      ]
    },
    {
      "cell_type": "markdown",
      "metadata": {
        "id": "B71G64jVPMwi",
        "colab_type": "text"
      },
      "source": [
        "### **Temp Trend**"
      ]
    },
    {
      "cell_type": "code",
      "metadata": {
        "id": "O3CZCqmPtK2W",
        "colab_type": "code",
        "colab": {
          "base_uri": "https://localhost:8080/",
          "height": 623
        },
        "outputId": "8ed7911c-056b-4899-b188-544218a2eb56"
      },
      "source": [
        "fig, axes = plt.subplots(nrows=2)\n",
        "fig.set_size_inches(20, 10)\n",
        "sn.boxplot(data=train, x='temp', y='casual', ax=axes[0])\n",
        "sn.boxplot(data=train, x='temp', y='registered', ax=axes[1])"
      ],
      "execution_count": 19,
      "outputs": [
        {
          "output_type": "execute_result",
          "data": {
            "text/plain": [
              "<matplotlib.axes._subplots.AxesSubplot at 0x7f4df22bf7f0>"
            ]
          },
          "metadata": {
            "tags": []
          },
          "execution_count": 19
        },
        {
          "output_type": "display_data",
          "data": {
            "image/png": "[encoded data removed]",
            "text/plain": [
              "<Figure size 1440x720 with 2 Axes>"
            ]
          },
          "metadata": {
            "tags": []
          }
        }
      ]
    },
    {
      "cell_type": "markdown",
      "metadata": {
        "id": "lpfvIqWkPOXp",
        "colab_type": "text"
      },
      "source": [
        "### **Weather Trend**"
      ]
    },
    {
      "cell_type": "code",
      "metadata": {
        "id": "aDCfunrAhmdp",
        "colab_type": "code",
        "colab": {
          "base_uri": "https://localhost:8080/",
          "height": 351
        },
        "outputId": "bde99e65-686a-4c20-ec27-bb16d29f181f"
      },
      "source": [
        "fig, axes = plt.subplots(ncols=2)\n",
        "fig.set_size_inches(20, 5)\n",
        "sn.boxplot(data=train, x='weather', y='casual', ax=axes[0])\n",
        "sn.boxplot(data=train, x='weather', y='registered', ax=axes[1])"
      ],
      "execution_count": 20,
      "outputs": [
        {
          "output_type": "execute_result",
          "data": {
            "text/plain": [
              "<matplotlib.axes._subplots.AxesSubplot at 0x7f4df19502b0>"
            ]
          },
          "metadata": {
            "tags": []
          },
          "execution_count": 20
        },
        {
          "output_type": "display_data",
          "data": {
            "image/png": "[encoded data removed]",
            "text/plain": [
              "<Figure size 1440x360 with 2 Axes>"
            ]
          },
          "metadata": {
            "tags": []
          }
        }
      ]
    },
    {
      "cell_type": "markdown",
      "metadata": {
        "id": "iZrwKRXHPQzo",
        "colab_type": "text"
      },
      "source": [
        "### **Time Trend**"
      ]
    },
    {
      "cell_type": "code",
      "metadata": {
        "id": "6ITY9lyiV8Jd",
        "colab_type": "code",
        "colab": {
          "base_uri": "https://localhost:8080/",
          "height": 351
        },
        "outputId": "930f48b9-9e46-4e74-ef1d-8fc80cab9fd2"
      },
      "source": [
        "sn.boxplot(data=train, x='year', y='count')"
      ],
      "execution_count": 21,
      "outputs": [
        {
          "output_type": "execute_result",
          "data": {
            "text/plain": [
              "<matplotlib.axes._subplots.AxesSubplot at 0x7f4df19e7f28>"
            ]
          },
          "metadata": {
            "tags": []
          },
          "execution_count": 21
        },
        {
          "output_type": "display_data",
          "data": {
            "image/png": "[encoded data removed]",
            "text/plain": [
              "<Figure size 720x360 with 1 Axes>"
            ]
          },
          "metadata": {
            "tags": []
          }
        }
      ]
    },
    {
      "cell_type": "markdown",
      "metadata": {
        "id": "TWamx2uBPbKZ",
        "colab_type": "text"
      },
      "source": [
        "# **Correlation Analysis**"
      ]
    },
    {
      "cell_type": "code",
      "metadata": {
        "id": "DjHX4nNNV8MT",
        "colab_type": "code",
        "colab": {
          "base_uri": "https://localhost:8080/",
          "height": 254
        },
        "outputId": "c43e5e7b-f8a7-4850-ee04-4e1bc72edd42"
      },
      "source": [
        "cor = train[['temp','atemp','humidity','windspeed','casual','registered','count']].corr()\n",
        "cor"
      ],
      "execution_count": 22,
      "outputs": [
        {
          "output_type": "execute_result",
          "data": {
            "text/html": [
              "<div>\n",
              "<style scoped>\n",
              "    .dataframe tbody tr th:only-of-type {\n",
              "        vertical-align: middle;\n",
              "    }\n",
              "\n",
              "    .dataframe tbody tr th {\n",
              "        vertical-align: top;\n",
              "    }\n",
              "\n",
              "    .dataframe thead th {\n",
              "        text-align: right;\n",
              "    }\n",
              "</style>\n",
              "<table border=\"1\" class=\"dataframe\">\n",
              "  <thead>\n",
              "    <tr style=\"text-align: right;\">\n",
              "      <th></th>\n",
              "      <th>temp</th>\n",
              "      <th>atemp</th>\n",
              "      <th>humidity</th>\n",
              "      <th>windspeed</th>\n",
              "      <th>casual</th>\n",
              "      <th>registered</th>\n",
              "      <th>count</th>\n",
              "    </tr>\n",
              "  </thead>\n",
              "  <tbody>\n",
              "    <tr>\n",
              "      <th>temp</th>\n",
              "      <td>1.000000</td>\n",
              "      <td>0.984948</td>\n",
              "      <td>-0.064949</td>\n",
              "      <td>-0.017852</td>\n",
              "      <td>0.467097</td>\n",
              "      <td>0.318571</td>\n",
              "      <td>0.394454</td>\n",
              "    </tr>\n",
              "    <tr>\n",
              "      <th>atemp</th>\n",
              "      <td>0.984948</td>\n",
              "      <td>1.000000</td>\n",
              "      <td>-0.043536</td>\n",
              "      <td>-0.057473</td>\n",
              "      <td>0.462067</td>\n",
              "      <td>0.314635</td>\n",
              "      <td>0.389784</td>\n",
              "    </tr>\n",
              "    <tr>\n",
              "      <th>humidity</th>\n",
              "      <td>-0.064949</td>\n",
              "      <td>-0.043536</td>\n",
              "      <td>1.000000</td>\n",
              "      <td>-0.318607</td>\n",
              "      <td>-0.348187</td>\n",
              "      <td>-0.265458</td>\n",
              "      <td>-0.317371</td>\n",
              "    </tr>\n",
              "    <tr>\n",
              "      <th>windspeed</th>\n",
              "      <td>-0.017852</td>\n",
              "      <td>-0.057473</td>\n",
              "      <td>-0.318607</td>\n",
              "      <td>1.000000</td>\n",
              "      <td>0.092276</td>\n",
              "      <td>0.091052</td>\n",
              "      <td>0.101369</td>\n",
              "    </tr>\n",
              "    <tr>\n",
              "      <th>casual</th>\n",
              "      <td>0.467097</td>\n",
              "      <td>0.462067</td>\n",
              "      <td>-0.348187</td>\n",
              "      <td>0.092276</td>\n",
              "      <td>1.000000</td>\n",
              "      <td>0.497250</td>\n",
              "      <td>0.690414</td>\n",
              "    </tr>\n",
              "    <tr>\n",
              "      <th>registered</th>\n",
              "      <td>0.318571</td>\n",
              "      <td>0.314635</td>\n",
              "      <td>-0.265458</td>\n",
              "      <td>0.091052</td>\n",
              "      <td>0.497250</td>\n",
              "      <td>1.000000</td>\n",
              "      <td>0.970948</td>\n",
              "    </tr>\n",
              "    <tr>\n",
              "      <th>count</th>\n",
              "      <td>0.394454</td>\n",
              "      <td>0.389784</td>\n",
              "      <td>-0.317371</td>\n",
              "      <td>0.101369</td>\n",
              "      <td>0.690414</td>\n",
              "      <td>0.970948</td>\n",
              "      <td>1.000000</td>\n",
              "    </tr>\n",
              "  </tbody>\n",
              "</table>\n",
              "</div>"
            ],
            "text/plain": [
              "                temp     atemp  humidity  ...    casual  registered     count\n",
              "temp        1.000000  0.984948 -0.064949  ...  0.467097    0.318571  0.394454\n",
              "atemp       0.984948  1.000000 -0.043536  ...  0.462067    0.314635  0.389784\n",
              "humidity   -0.064949 -0.043536  1.000000  ... -0.348187   -0.265458 -0.317371\n",
              "windspeed  -0.017852 -0.057473 -0.318607  ...  0.092276    0.091052  0.101369\n",
              "casual      0.467097  0.462067 -0.348187  ...  1.000000    0.497250  0.690414\n",
              "registered  0.318571  0.314635 -0.265458  ...  0.497250    1.000000  0.970948\n",
              "count       0.394454  0.389784 -0.317371  ...  0.690414    0.970948  1.000000\n",
              "\n",
              "[7 rows x 7 columns]"
            ]
          },
          "metadata": {
            "tags": []
          },
          "execution_count": 22
        }
      ]
    },
    {
      "cell_type": "code",
      "metadata": {
        "id": "UwIkVGjrV8Rb",
        "colab_type": "code",
        "colab": {
          "base_uri": "https://localhost:8080/",
          "height": 596
        },
        "outputId": "62553fef-2943-4fc5-fea6-023ebd4bce8d"
      },
      "source": [
        "mask = np.array(cor)\n",
        "mask[np.tril_indices_from(mask)] = False\n",
        "plt.figure(figsize=(10,10))\n",
        "sn.heatmap(cor, mask=mask,vmax=.8, square=True, annot=True)"
      ],
      "execution_count": 23,
      "outputs": [
        {
          "output_type": "execute_result",
          "data": {
            "text/plain": [
              "<matplotlib.axes._subplots.AxesSubplot at 0x7f4df000d080>"
            ]
          },
          "metadata": {
            "tags": []
          },
          "execution_count": 23
        },
        {
          "output_type": "display_data",
          "data": {
            "image/png": "[encoded data removed]",
            "text/plain": [
              "<Figure size 720x720 with 2 Axes>"
            ]
          },
          "metadata": {
            "tags": []
          }
        }
      ]
    },
    {
      "cell_type": "markdown",
      "metadata": {
        "id": "gfxwJ2_7T5lY",
        "colab_type": "text"
      },
      "source": [
        "As can be seen, \"atemp\" is variable is not taken into since \"atemp\" and \"temp\" has got strong correlation with each other. "
      ]
    },
    {
      "cell_type": "markdown",
      "metadata": {
        "id": "R2z7oAp7XRrk",
        "colab_type": "text"
      },
      "source": [
        "# **Feature Engineering**"
      ]
    },
    {
      "cell_type": "markdown",
      "metadata": {
        "id": "Eaj22o3Isj5r",
        "colab_type": "text"
      },
      "source": [
        "## **Hour Bins**"
      ]
    },
    {
      "cell_type": "markdown",
      "metadata": {
        "id": "fCkpyR2EVHDt",
        "colab_type": "text"
      },
      "source": [
        "The hour is categorized into three categories separately for casual and registered users"
      ]
    },
    {
      "cell_type": "code",
      "metadata": {
        "id": "pv6wBGwArKai",
        "colab_type": "code",
        "colab": {}
      },
      "source": [
        "train['hour'] = train['hour'].astype('int64')\n",
        "train['hour_cas'] = 0\n",
        "train.loc[train['hour']<=7,'hour_cas'] = 1\n",
        "train.loc[(train['hour']>=8) & (train['hour']<=11),'hour_cas'] = 2\n",
        "train.loc[(train['hour']>=12) & (train['hour']<=17),'hour_cas'] = 3\n",
        "train.loc[(train['hour']>=18),'hour_cas'] = 1\n",
        "train['hour_cas'] = train['hour_cas'].astype('category')"
      ],
      "execution_count": 24,
      "outputs": []
    },
    {
      "cell_type": "code",
      "metadata": {
        "id": "b8AVjyWkV8UL",
        "colab_type": "code",
        "colab": {}
      },
      "source": [
        "train['hour_reg']=0\n",
        "train.loc[train['hour']<=6,'hour_reg'] = 1\n",
        "train.loc[(train['hour']>=7) & (train['hour']<=10),'hour_reg'] = 2\n",
        "train.loc[(train['hour']>=11) & (train['hour']<=16),'hour_reg'] = 3\n",
        "train.loc[(train['hour']>=17) & (train['hour']<=20),'hour_reg'] = 2\n",
        "train.loc[(train['hour']>=21),'hour_reg'] = 1\n",
        "train['hour_cas'] = train['hour_reg'].astype('category')\n",
        "train['hour'] = train['hour'].astype('category')"
      ],
      "execution_count": 25,
      "outputs": []
    },
    {
      "cell_type": "markdown",
      "metadata": {
        "id": "DTUwzl0luaZP",
        "colab_type": "text"
      },
      "source": [
        "## **Temp Bins**"
      ]
    },
    {
      "cell_type": "markdown",
      "metadata": {
        "id": "lkCfvSy2VhNH",
        "colab_type": "text"
      },
      "source": [
        "Using similar methods, we have created bins for temperature for both registered and casuals users."
      ]
    },
    {
      "cell_type": "code",
      "metadata": {
        "id": "v9zrX0DwV8XK",
        "colab_type": "code",
        "colab": {}
      },
      "source": [
        "train['temp_cas'] = 0\n",
        "train.loc[train['temp']<15,'temp_cas'] = 1\n",
        "train.loc[(train['temp']>=15) & (train['temp']<23),'temp_cas'] = 2\n",
        "train.loc[(train['temp']>=23) & (train['temp']<30),'temp_cas'] = 3\n",
        "train.loc[(train['temp']>=30),'temp_cas'] = 4"
      ],
      "execution_count": 26,
      "outputs": []
    },
    {
      "cell_type": "code",
      "metadata": {
        "id": "dupg3NoVV8PR",
        "colab_type": "code",
        "colab": {}
      },
      "source": [
        "train['temp_reg'] = 0\n",
        "train.loc[train['temp']<13,'temp_reg'] = 1\n",
        "train.loc[(train['temp']>=13) & (train['temp']<23),'temp_reg'] = 2\n",
        "train.loc[(train['temp']>=23) & (train['temp']<30),'temp_reg'] = 3\n",
        "train.loc[(train['temp']>=30),'temp_reg'] = 4\n",
        "train['temp_reg'] = train['temp_reg'].astype('category')\n",
        "train['temp'] = train['temp'].astype('category')"
      ],
      "execution_count": 27,
      "outputs": []
    },
    {
      "cell_type": "markdown",
      "metadata": {
        "id": "UHC0Kxc4Gxb4",
        "colab_type": "text"
      },
      "source": [
        "## **Log Of Target Variables**"
      ]
    },
    {
      "cell_type": "markdown",
      "metadata": {
        "id": "Rm0qbfMsISSF",
        "colab_type": "text"
      },
      "source": [
        "Converting target variables registered and casual into log(a+1) form"
      ]
    },
    {
      "cell_type": "code",
      "metadata": {
        "id": "z8FZMsuhHV1s",
        "colab_type": "code",
        "colab": {}
      },
      "source": [
        "train['target_cas'] = np.log1p(train['casual']+1)\n",
        "train['target_reg'] = np.log1p(train['registered']+1)"
      ],
      "execution_count": 29,
      "outputs": []
    },
    {
      "cell_type": "markdown",
      "metadata": {
        "id": "f8pin6yuHnPJ",
        "colab_type": "text"
      },
      "source": [
        "## **Feature**"
      ]
    },
    {
      "cell_type": "code",
      "metadata": {
        "id": "wbP0CloVG578",
        "colab_type": "code",
        "colab": {}
      },
      "source": [
        "features_cas=['season', 'holiday', 'workingday', 'weather', 'humidity', \n",
        "              'windspeed', 'hour', 'year', 'day', 'month', 'weekend', 'hour_cas', 'temp_cas']\n",
        "features_reg=['season', 'holiday', 'workingday', 'weather', 'humidity', \n",
        "              'windspeed', 'hour', 'year', 'day', 'month', 'weekend', 'hour_reg', 'temp_reg']"
      ],
      "execution_count": 30,
      "outputs": []
    },
    {
      "cell_type": "markdown",
      "metadata": {
        "id": "iFA4KwIwF92t",
        "colab_type": "text"
      },
      "source": [
        "# **RMSLE Scorer**"
      ]
    },
    {
      "cell_type": "code",
      "metadata": {
        "id": "_QF9zfekF9Ts",
        "colab_type": "code",
        "colab": {}
      },
      "source": [
        "def RMSLE(y, ypred):\n",
        "    y = np.nan_to_num(y)\n",
        "    ypred = np.nan_to_num(ypred)\n",
        "    calc = (ypred-y)**2\n",
        "    return np.sqrt(np.mean(calc))"
      ],
      "execution_count": 28,
      "outputs": []
    },
    {
      "cell_type": "markdown",
      "metadata": {
        "id": "qN9sAOtVEp9p",
        "colab_type": "text"
      },
      "source": [
        "# **Model Building**"
      ]
    },
    {
      "cell_type": "markdown",
      "metadata": {
        "id": "LOUYWSaeJK4o",
        "colab_type": "text"
      },
      "source": [
        "Splitting into training and test set using scikit's train_test_split package"
      ]
    },
    {
      "cell_type": "code",
      "metadata": {
        "id": "tuh2TdI7G5hE",
        "colab_type": "code",
        "colab": {}
      },
      "source": [
        "from sklearn.model_selection import train_test_split\n",
        "xtrain_cas, xtest_cas, ytrain_cas, ytest_cas = train_test_split(train[features_cas].values, \n",
        "                                                                np.ravel(train['target_cas'].values), test_size=0.25)\n",
        "xtrain_reg, xtest_reg, ytrain_reg, ytest_reg = train_test_split(train[features_reg].values, \n",
        "                                                                np.ravel(train['target_reg'].values), test_size=0.25)"
      ],
      "execution_count": 31,
      "outputs": []
    },
    {
      "cell_type": "code",
      "metadata": {
        "id": "Yj9sgoxXM3TT",
        "colab_type": "code",
        "colab": {}
      },
      "source": [
        "from sklearn.linear_model import LinearRegression,Ridge,Lasso\n",
        "from sklearn.model_selection import GridSearchCV"
      ],
      "execution_count": 32,
      "outputs": []
    },
    {
      "cell_type": "markdown",
      "metadata": {
        "id": "QA8Xz1ERJYw0",
        "colab_type": "text"
      },
      "source": [
        "## **Linear Regression Model**"
      ]
    },
    {
      "cell_type": "code",
      "metadata": {
        "id": "YpZ_XlFqwtcx",
        "colab_type": "code",
        "colab": {
          "base_uri": "https://localhost:8080/",
          "height": 84
        },
        "outputId": "2cf274e9-a254-44bb-faa4-e4d8523fb24e"
      },
      "source": [
        "clf_1_cas = LinearRegression()\n",
        "clf_1_cas.fit(xtrain_cas,ytrain_cas)\n",
        "print(\"RMSLE score for casual train %f\" %(RMSLE(ytrain_cas, clf_1_cas.predict(xtrain_cas))))\n",
        "print(\"RMSLE score for casual test %f\" %(RMSLE(ytest_cas, clf_1_cas.predict(xtest_cas))))\n",
        "\n",
        "clf_1_reg = LinearRegression()\n",
        "clf_1_reg.fit(xtrain_reg, ytrain_reg)\n",
        "print(\"RMSLE score for registered train %f\" %(RMSLE(ytrain_reg, clf_1_reg.predict(xtrain_reg))))\n",
        "print(\"RMSLE score for registered test %f\" %(RMSLE(ytest_reg, clf_1_reg.predict(xtest_reg))))"
      ],
      "execution_count": 34,
      "outputs": [
        {
          "output_type": "stream",
          "text": [
            "RMSLE score for casual train 0.696134\n",
            "RMSLE score for casual test 0.688889\n",
            "RMSLE score for registered train 0.845600\n",
            "RMSLE score for registered test 0.867101\n"
          ],
          "name": "stdout"
        }
      ]
    },
    {
      "cell_type": "markdown",
      "metadata": {
        "id": "ZEnOPgtdWSQr",
        "colab_type": "text"
      },
      "source": [
        "## **Regularization Model - Ridge**"
      ]
    },
    {
      "cell_type": "code",
      "metadata": {
        "id": "SNjst6onQWa3",
        "colab_type": "code",
        "colab": {
          "base_uri": "https://localhost:8080/",
          "height": 118
        },
        "outputId": "bae791b1-a678-4820-85b6-7e0a872a797c"
      },
      "source": [
        "clf_2_cas = Ridge()\n",
        "params = {'alpha':[0.01,0.05,0.1, 1, 2, 3, 4, 10, 30,100,200,300,400,800,900,1000]}\n",
        "rmsle_scorer=sklearn.metrics.make_scorer(RMSLE, greater_is_better=False)\n",
        "grid_2_cas = GridSearchCV(clf_2_cas, param_grid=params, scoring=rmsle_scorer, cv=5)\n",
        "grid_2_cas.fit(xtrain_cas, ytrain_cas)\n",
        "print(\"Best params\", grid_2_cas.best_params_)\n",
        "print(\"RMSLE score for casual train %f\" %(RMSLE(ytrain_cas, grid_2_cas.best_estimator_.predict(xtrain_cas))))\n",
        "print(\"RMSLE score for casual test %f\" %(RMSLE(ytest_cas, grid_2_cas.best_estimator_.predict(xtest_cas))))\n",
        "\n",
        "clf_2_reg = Ridge()\n",
        "grid_2_reg = GridSearchCV(clf_2_reg, param_grid=params, scoring=rmsle_scorer, cv=5)\n",
        "grid_2_reg.fit(xtrain_reg, ytrain_reg)\n",
        "print(\"Best params\", grid_2_reg.best_params_)\n",
        "print(\"RMSLE score for registered train %f\" %(RMSLE(ytrain_reg,grid_2_reg.best_estimator_.predict(xtrain_reg))))\n",
        "print(\"RMSLE score for registered test %f\" %(RMSLE(ytest_reg, grid_2_reg.best_estimator_.predict(xtest_reg))))"
      ],
      "execution_count": 35,
      "outputs": [
        {
          "output_type": "stream",
          "text": [
            "Best params {'alpha': 10}\n",
            "RMSLE score for casual train 0.696136\n",
            "RMSLE score for casual test 0.688858\n",
            "Best params {'alpha': 10}\n",
            "RMSLE score for registered train 0.845602\n",
            "RMSLE score for registered test 0.867090\n"
          ],
          "name": "stdout"
        }
      ]
    },
    {
      "cell_type": "markdown",
      "metadata": {
        "id": "j4TYW5-fZxPI",
        "colab_type": "text"
      },
      "source": [
        "## **Regularization Model - Lasso**"
      ]
    },
    {
      "cell_type": "code",
      "metadata": {
        "id": "6N2tum0RQWX2",
        "colab_type": "code",
        "colab": {
          "base_uri": "https://localhost:8080/",
          "height": 118
        },
        "outputId": "00787df9-82d4-45f1-f992-28b969ca34d4"
      },
      "source": [
        "clf_3_cas = Lasso()\n",
        "params = {'alpha': np.linspace(0.001,10,15)}\n",
        "grid_3_cas = GridSearchCV(clf_2_cas, param_grid=params, scoring=rmsle_scorer, cv=5)\n",
        "grid_3_cas.fit(xtrain_cas, ytrain_cas)\n",
        "print(\"Best params\", grid_3_cas.best_params_)\n",
        "print(\"RMSLE score for casual train %f\" %(RMSLE(ytrain_cas, grid_3_cas.best_estimator_.predict(xtrain_cas))))\n",
        "print(\"RMSLE score for casual test %f\" %(RMSLE(ytest_cas, grid_3_cas.best_estimator_.predict(xtest_cas))))\n",
        "\n",
        "clf_3_reg = Ridge()\n",
        "grid_3_reg = GridSearchCV(clf_3_reg, param_grid=params, scoring=rmsle_scorer, cv=5)\n",
        "grid_3_reg.fit(xtrain_reg, ytrain_reg)\n",
        "print(\"Best params\", grid_3_reg.best_params_)\n",
        "print(\"RMSLE score for registered train %f\" %(RMSLE(ytrain_reg, grid_3_reg.best_estimator_.predict(xtrain_reg))))\n",
        "print(\"RMSLE score for registered test %f\" %(RMSLE(ytest_reg, grid_3_reg.best_estimator_.predict(xtest_reg))))"
      ],
      "execution_count": 53,
      "outputs": [
        {
          "output_type": "stream",
          "text": [
            "Best params {'alpha': 9.285785714285716}\n",
            "RMSLE score for casual train 0.696136\n",
            "RMSLE score for casual test 0.688860\n",
            "Best params {'alpha': 10.0}\n",
            "RMSLE score for registered train 0.845602\n",
            "RMSLE score for registered test 0.867090\n"
          ],
          "name": "stdout"
        }
      ]
    },
    {
      "cell_type": "markdown",
      "metadata": {
        "id": "9Bns8iJ3c2P3",
        "colab_type": "text"
      },
      "source": [
        "## **Ensemble Models - Random Forest**"
      ]
    },
    {
      "cell_type": "code",
      "metadata": {
        "id": "zPrC9lWdQWUh",
        "colab_type": "code",
        "colab": {
          "base_uri": "https://localhost:8080/",
          "height": 118
        },
        "outputId": "e350cb5a-db17-4e83-e899-57473e8fa24c"
      },
      "source": [
        "from sklearn.ensemble import RandomForestRegressor\n",
        "clf_4_cas = RandomForestRegressor()\n",
        "param = {'n_estimators':[100,200,300,400,500], 'max_depth':[4,5,6,7,8,9,10]}\n",
        "grid_4_cas = GridSearchCV(clf_4_cas, param_grid=param, scoring=rmsle_scorer, cv=5, n_jobs=4)\n",
        "grid_4_cas.fit(xtrain_cas, ytrain_cas)\n",
        "print(\"Best params\", grid_4_cas.best_params_)\n",
        "print(\"RMSLE score for casual train %f\" %(RMSLE(ytrain_cas, grid_4_cas.best_estimator_.predict(xtrain_cas))))\n",
        "print(\"RMSLE score for casual test %f\" %(RMSLE(ytest_cas, grid_4_cas.best_estimator_.predict(xtest_cas))))\n",
        "\n",
        "clf_4_reg = RandomForestRegressor()\n",
        "grid_4_reg = GridSearchCV(clf_4_reg, param_grid=param, scoring=rmsle_scorer, cv=5, n_jobs=4)\n",
        "grid_4_reg.fit(xtrain_reg, ytrain_reg)\n",
        "print(\"Best params\", grid_4_reg.best_params_)\n",
        "print(\"RMSLE score for registered train %f\" %(RMSLE(ytrain_reg, grid_4_reg.best_estimator_.predict(xtrain_reg))))\n",
        "print(\"RMSLE score for registered test %f\" %(RMSLE(ytest_reg, grid_4_reg.best_estimator_.predict(xtest_reg))))"
      ],
      "execution_count": 37,
      "outputs": [
        {
          "output_type": "stream",
          "text": [
            "Best params {'max_depth': 10, 'n_estimators': 500}\n",
            "RMSLE score for casual train 0.329737\n",
            "RMSLE score for casual test 0.438781\n",
            "Best params {'max_depth': 10, 'n_estimators': 500}\n",
            "RMSLE score for registered train 0.216358\n",
            "RMSLE score for registered test 0.321653\n"
          ],
          "name": "stdout"
        }
      ]
    },
    {
      "cell_type": "markdown",
      "metadata": {
        "id": "dtwL0UoFlO6s",
        "colab_type": "text"
      },
      "source": [
        "## **Ensemble Model - Gradient Boost**"
      ]
    },
    {
      "cell_type": "code",
      "metadata": {
        "id": "J3pKXknNQWK7",
        "colab_type": "code",
        "colab": {
          "base_uri": "https://localhost:8080/",
          "height": 118
        },
        "outputId": "faf463a2-f40f-442a-8063-199378a22740"
      },
      "source": [
        "from sklearn.ensemble import GradientBoostingRegressor\n",
        "clf_5_cas = GradientBoostingRegressor()\n",
        "param = {'n_estimators':[1000,2000,3000,4000], 'max_depth' : [10,15,20,25]}\n",
        "grid_5_cas = GridSearchCV(clf_5_cas, param_grid=param, scoring=rmsle_scorer, cv=5, n_jobs=4)\n",
        "grid_5_cas.fit(xtrain_cas, ytrain_cas)\n",
        "print(\"Best params\", grid_5_cas.best_params_)\n",
        "print(\"RMSLE score for casual train %f\" %(RMSLE(ytrain_cas, grid_5_cas.best_estimator_.predict(xtrain_cas))))\n",
        "print(\"RMSLE score for casual test %f\" %(RMSLE(ytest_cas, grid_5_cas.best_estimator_.predict(xtest_cas))))\n",
        "\n",
        "clf_5_reg = GradientBoostingRegressor()\n",
        "grid_5_reg = GridSearchCV(clf_5_reg, param_grid=param, scoring=rmsle_scorer, cv=5, n_jobs=4)\n",
        "grid_5_reg.fit(xtrain_reg, ytrain_reg)\n",
        "print(\"Best params\", grid_5_reg.best_params_)\n",
        "print(\"RMSLE score for registered train %f\" %(RMSLE(ytrain_reg, grid_5_reg.best_estimator_.predict(xtrain_reg))))\n",
        "print(\"RMSLE score for registered test %f\" %(RMSLE(ytest_reg, grid_5_reg.best_estimator_.predict(xtest_reg))))"
      ],
      "execution_count": 38,
      "outputs": [
        {
          "output_type": "stream",
          "text": [
            "Best params {'max_depth': 10, 'n_estimators': 3000}\n",
            "RMSLE score for casual train 0.000316\n",
            "RMSLE score for casual test 0.430104\n",
            "Best params {'max_depth': 10, 'n_estimators': 4000}\n",
            "RMSLE score for registered train 0.000316\n",
            "RMSLE score for registered test 0.313063\n"
          ],
          "name": "stdout"
        }
      ]
    }
  ]
}